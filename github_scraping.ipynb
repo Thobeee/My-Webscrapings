{
 "metadata": {
  "language_info": {
   "codemirror_mode": {
    "name": "ipython",
    "version": 3
   },
   "file_extension": ".py",
   "mimetype": "text/x-python",
   "name": "python",
   "nbconvert_exporter": "python",
   "pygments_lexer": "ipython3",
   "version": "3.7.10-final"
  },
  "orig_nbformat": 2,
  "kernelspec": {
   "name": "python3710jvsc74a57bd0b3ba2566441a7c06988d0923437866b63cedc61552a5af99d1f4fb67d367b25f",
   "display_name": "Python 3.7.10 64-bit (conda)"
  }
 },
 "nbformat": 4,
 "nbformat_minor": 2,
 "cells": [
  {
   "source": [
    "# Webscraping Github"
   ],
   "cell_type": "markdown",
   "metadata": {}
  },
  {
   "cell_type": "code",
   "execution_count": 2,
   "metadata": {},
   "outputs": [],
   "source": [
    "import requests"
   ]
  },
  {
   "cell_type": "code",
   "execution_count": 1,
   "metadata": {},
   "outputs": [],
   "source": [
    "topic_url = 'https://github.com/topics'"
   ]
  },
  {
   "cell_type": "code",
   "execution_count": 3,
   "metadata": {},
   "outputs": [],
   "source": [
    "response = requests.get(topic_url)"
   ]
  },
  {
   "cell_type": "code",
   "execution_count": 4,
   "metadata": {},
   "outputs": [
    {
     "output_type": "execute_result",
     "data": {
      "text/plain": [
       "200"
      ]
     },
     "metadata": {},
     "execution_count": 4
    }
   ],
   "source": [
    "response.status_code"
   ]
  },
  {
   "cell_type": "code",
   "execution_count": 5,
   "metadata": {},
   "outputs": [
    {
     "output_type": "execute_result",
     "data": {
      "text/plain": [
       "126480"
      ]
     },
     "metadata": {},
     "execution_count": 5
    }
   ],
   "source": [
    "len(response.text)"
   ]
  },
  {
   "cell_type": "code",
   "execution_count": 6,
   "metadata": {},
   "outputs": [],
   "source": [
    "page_content = response.text"
   ]
  },
  {
   "cell_type": "code",
   "execution_count": 7,
   "metadata": {},
   "outputs": [
    {
     "output_type": "execute_result",
     "data": {
      "text/plain": [
       "'\\n\\n<!DOCTYPE html>\\n<html lang=\"en\" >\\n  <head>\\n    <meta charset=\"utf-8\">\\n  <link rel=\"dns-prefetch\" href=\"https://github.githubassets.com\">\\n  <link rel=\"dns-prefetch\" href=\"https://avatars.githubusercontent.com\">\\n  <link rel=\"dns-prefetch\" href=\"https://github-cloud.s3.amazonaws.com\">\\n  <link rel=\"dns-prefetch\" href=\"https://user-images.githubusercontent.com/\">\\n\\n\\n\\n  <link crossorigin=\"anonymous\" media=\"all\" integrity=\"sha512-OZSLZxbfZRavuNMaKn9S2z6nOiqb+cSXqL/eTi4TqwhiRm1fDxQpuwjViN7NzGw/nhXT4O0BZIIg0Ym7szrbpg==\" rel=\"stylesheet\" href=\"https://github.githubassets.com/assets/frameworks-39948b6716df6516afb8d31a2a7f52db.css\" />\\n  <link crossorigin=\"anonymous\" media=\"all\" integrity=\"sha512-jaRxAk/R7Eq6XXtxt2dWYc6UfgT/Jk9zYWYh4UpAt5LFRnYVaWqEM3sPhUFL3fOBmHhHoOcn4wfLkMS21Q1yaw==\" rel=\"stylesheet\" href=\"https://github.githubassets.com/assets/site-8da471024fd1ec4aba5d7b71b7675661.css\" />\\n    <link crossorigin=\"anonymous\" media=\"all\" integrity=\"sha512-9nE+XgrWtARaS0zwxOiHy2GiHph7zd3w1/JhlkltB0BJ'"
      ]
     },
     "metadata": {},
     "execution_count": 7
    }
   ],
   "source": [
    "page_content[:1000]"
   ]
  },
  {
   "cell_type": "code",
   "execution_count": 9,
   "metadata": {},
   "outputs": [],
   "source": [
    "with open('webpage.html', 'w', encoding='utf-8') as f:\n",
    "    f.write(page_content)"
   ]
  },
  {
   "cell_type": "code",
   "execution_count": 10,
   "metadata": {},
   "outputs": [],
   "source": [
    "from bs4 import BeautifulSoup"
   ]
  },
  {
   "cell_type": "code",
   "execution_count": 11,
   "metadata": {},
   "outputs": [],
   "source": [
    "doc = BeautifulSoup(page_content, 'html.parser')"
   ]
  },
  {
   "cell_type": "code",
   "execution_count": 18,
   "metadata": {},
   "outputs": [],
   "source": [
    "selection_class = 'f3 lh-condensed mb-0 mt-1 Link--primary'\n",
    "topic_title_tags = doc.find_all('p', {'class': selection_class})"
   ]
  },
  {
   "cell_type": "code",
   "execution_count": 19,
   "metadata": {},
   "outputs": [
    {
     "output_type": "execute_result",
     "data": {
      "text/plain": [
       "30"
      ]
     },
     "metadata": {},
     "execution_count": 19
    }
   ],
   "source": [
    "len(topic_title_tags)"
   ]
  },
  {
   "cell_type": "code",
   "execution_count": 21,
   "metadata": {},
   "outputs": [
    {
     "output_type": "execute_result",
     "data": {
      "text/plain": [
       "[<p class=\"f3 lh-condensed mb-0 mt-1 Link--primary\">3D</p>,\n",
       " <p class=\"f3 lh-condensed mb-0 mt-1 Link--primary\">Ajax</p>,\n",
       " <p class=\"f3 lh-condensed mb-0 mt-1 Link--primary\">Algorithm</p>,\n",
       " <p class=\"f3 lh-condensed mb-0 mt-1 Link--primary\">Amp</p>,\n",
       " <p class=\"f3 lh-condensed mb-0 mt-1 Link--primary\">Android</p>]"
      ]
     },
     "metadata": {},
     "execution_count": 21
    }
   ],
   "source": [
    "topic_title_tags[:5]"
   ]
  },
  {
   "cell_type": "code",
   "execution_count": 22,
   "metadata": {},
   "outputs": [],
   "source": [
    "desc_selector = 'f5 color-text-secondary mb-0 mt-1'\n",
    "topic_desce_tags = doc.find_all('p', {'class':desc_selector})"
   ]
  },
  {
   "cell_type": "code",
   "execution_count": 23,
   "metadata": {},
   "outputs": [
    {
     "output_type": "execute_result",
     "data": {
      "text/plain": [
       "[<p class=\"f5 color-text-secondary mb-0 mt-1\">\n",
       "               3D modeling is the process of virtually developing the surface and structure of a 3D object.\n",
       "             </p>,\n",
       " <p class=\"f5 color-text-secondary mb-0 mt-1\">\n",
       "               Ajax is a technique for creating interactive web applications.\n",
       "             </p>,\n",
       " <p class=\"f5 color-text-secondary mb-0 mt-1\">\n",
       "               Algorithms are self-contained sequences that carry out a variety of tasks.\n",
       "             </p>,\n",
       " <p class=\"f5 color-text-secondary mb-0 mt-1\">\n",
       "               Amp is a non-blocking concurrency framework for PHP.\n",
       "             </p>,\n",
       " <p class=\"f5 color-text-secondary mb-0 mt-1\">\n",
       "               Android is an operating system built by Google designed for mobile devices.\n",
       "             </p>]"
      ]
     },
     "metadata": {},
     "execution_count": 23
    }
   ],
   "source": [
    "topic_desce_tags[:5]"
   ]
  },
  {
   "cell_type": "code",
   "execution_count": 24,
   "metadata": {},
   "outputs": [],
   "source": [
    "topic_title_tag0 = topic_title_tags[0]"
   ]
  },
  {
   "cell_type": "code",
   "execution_count": 25,
   "metadata": {},
   "outputs": [],
   "source": [
    "div_tag = topic_title_tag0.parent"
   ]
  },
  {
   "cell_type": "code",
   "execution_count": 26,
   "metadata": {},
   "outputs": [
    {
     "output_type": "execute_result",
     "data": {
      "text/plain": [
       "<div class=\"d-sm-flex flex-auto\">\n",
       "<div class=\"flex-auto\">\n",
       "<p class=\"f3 lh-condensed mb-0 mt-1 Link--primary\">3D</p>\n",
       "<p class=\"f5 color-text-secondary mb-0 mt-1\">\n",
       "              3D modeling is the process of virtually developing the surface and structure of a 3D object.\n",
       "            </p>\n",
       "</div>\n",
       "<div class=\"d-inline-block js-toggler-container starring-container\">\n",
       "<a aria-label=\"You must be signed in to star a topic\" class=\"btn btn-sm d-flex flex-items-center\" data-ga-click=\"Explore, click star button when signed out,\n",
       "        action:topics#index;\n",
       "        text:Star\" href=\"/login?return_to=%2Ftopics%2F3d\" title=\"You must be signed in to star a topic\">\n",
       "<svg aria-hidden=\"true\" class=\"octicon octicon-star mr-1\" height=\"16\" version=\"1.1\" viewbox=\"0 0 16 16\" width=\"16\"><path d=\"M8 .25a.75.75 0 01.673.418l1.882 3.815 4.21.612a.75.75 0 01.416 1.279l-3.046 2.97.719 4.192a.75.75 0 01-1.088.791L8 12.347l-3.766 1.98a.75.75 0 01-1.088-.79l.72-4.194L.818 6.374a.75.75 0 01.416-1.28l4.21-.611L7.327.668A.75.75 0 018 .25zm0 2.445L6.615 5.5a.75.75 0 01-.564.41l-3.097.45 2.24 2.184a.75.75 0 01.216.664l-.528 3.084 2.769-1.456a.75.75 0 01.698 0l2.77 1.456-.53-3.084a.75.75 0 01.216-.664l2.24-2.183-3.096-.45a.75.75 0 01-.564-.41L8 2.694v.001z\" fill-rule=\"evenodd\"></path></svg>Star\n",
       "    </a>\n",
       "</div>\n",
       "</div>"
      ]
     },
     "metadata": {},
     "execution_count": 26
    }
   ],
   "source": [
    "div_tag.parent"
   ]
  },
  {
   "cell_type": "code",
   "execution_count": 27,
   "metadata": {},
   "outputs": [],
   "source": [
    "topic_link_tags = doc.find_all('a', {'class', 'd-flex no-underline'})"
   ]
  },
  {
   "cell_type": "code",
   "execution_count": 28,
   "metadata": {},
   "outputs": [
    {
     "output_type": "execute_result",
     "data": {
      "text/plain": [
       "30"
      ]
     },
     "metadata": {},
     "execution_count": 28
    }
   ],
   "source": [
    "len(topic_link_tags)"
   ]
  },
  {
   "cell_type": "code",
   "execution_count": 30,
   "metadata": {},
   "outputs": [
    {
     "output_type": "stream",
     "name": "stdout",
     "text": [
      "https://github.com/topics/3d\n"
     ]
    }
   ],
   "source": [
    "topic0_url = \"https://github.com\" + topic_link_tags[0]['href']\n",
    "print(topic0_url)"
   ]
  },
  {
   "cell_type": "code",
   "execution_count": 34,
   "metadata": {},
   "outputs": [
    {
     "output_type": "stream",
     "name": "stdout",
     "text": [
      "['3D', 'Ajax', 'Algorithm', 'Amp', 'Android', 'Angular', 'Ansible', 'API', 'Arduino', 'ASP.NET', 'Atom', 'Awesome Lists', 'Amazon Web Services', 'Azure', 'Babel', 'Bash', 'Bitcoin', 'Bootstrap', 'Bot', 'C', 'Chrome', 'Chrome extension', 'Command line interface', 'Clojure', 'Code quality', 'Code review', 'Compiler', 'Continuous integration', 'COVID-19', 'C++']\n"
     ]
    }
   ],
   "source": [
    "topic_titles = []\n",
    "for tag in topic_title_tags:\n",
    "    topic_titles.append(tag.text)\n",
    "print(topic_titles)"
   ]
  },
  {
   "cell_type": "code",
   "execution_count": 38,
   "metadata": {},
   "outputs": [
    {
     "output_type": "stream",
     "name": "stdout",
     "text": [
      "['3D modeling is the process of virtually developing the surface and structure of a 3D object.', 'Ajax is a technique for creating interactive web applications.', 'Algorithms are self-contained sequences that carry out a variety of tasks.', 'Amp is a non-blocking concurrency framework for PHP.', 'Android is an operating system built by Google designed for mobile devices.']\n"
     ]
    }
   ],
   "source": [
    "topic_description = []\n",
    "for tag in topic_desce_tags:\n",
    "    topic_description.append(tag.text.strip())\n",
    "print(topic_description[:5])"
   ]
  },
  {
   "cell_type": "code",
   "execution_count": 40,
   "metadata": {},
   "outputs": [
    {
     "output_type": "stream",
     "name": "stdout",
     "text": [
      "['https://github.com/topics/3d', 'https://github.com/topics/ajax', 'https://github.com/topics/algorithm', 'https://github.com/topics/amphp', 'https://github.com/topics/android', 'https://github.com/topics/angular', 'https://github.com/topics/ansible', 'https://github.com/topics/api', 'https://github.com/topics/arduino', 'https://github.com/topics/aspnet', 'https://github.com/topics/atom', 'https://github.com/topics/awesome', 'https://github.com/topics/aws', 'https://github.com/topics/azure', 'https://github.com/topics/babel', 'https://github.com/topics/bash', 'https://github.com/topics/bitcoin', 'https://github.com/topics/bootstrap', 'https://github.com/topics/bot', 'https://github.com/topics/c', 'https://github.com/topics/chrome', 'https://github.com/topics/chrome-extension', 'https://github.com/topics/cli', 'https://github.com/topics/clojure', 'https://github.com/topics/code-quality', 'https://github.com/topics/code-review', 'https://github.com/topics/compiler', 'https://github.com/topics/continuous-integration', 'https://github.com/topics/covid-19', 'https://github.com/topics/cpp']\n"
     ]
    }
   ],
   "source": [
    "topic_urls = []\n",
    "base_url = \"https://github.com\"\n",
    "for tag in topic_link_tags:\n",
    "    topic_urls.append(base_url + tag['href'])\n",
    "\n",
    "print(topic_urls)"
   ]
  },
  {
   "cell_type": "code",
   "execution_count": 41,
   "metadata": {},
   "outputs": [],
   "source": [
    "topics_dict = {'title':topic_titles,\n",
    " 'description':topic_description,\n",
    "  'url':topic_urls}"
   ]
  },
  {
   "cell_type": "code",
   "execution_count": 42,
   "metadata": {},
   "outputs": [],
   "source": [
    "import pandas as pd\n",
    "topics_df = pd.DataFrame(topics_dict)"
   ]
  },
  {
   "cell_type": "code",
   "execution_count": 43,
   "metadata": {},
   "outputs": [
    {
     "output_type": "execute_result",
     "data": {
      "text/plain": [
       "                     title                                        description  \\\n",
       "0                       3D  3D modeling is the process of virtually develo...   \n",
       "1                     Ajax  Ajax is a technique for creating interactive w...   \n",
       "2                Algorithm  Algorithms are self-contained sequences that c...   \n",
       "3                      Amp  Amp is a non-blocking concurrency framework fo...   \n",
       "4                  Android  Android is an operating system built by Google...   \n",
       "5                  Angular  Angular is an open source web application plat...   \n",
       "6                  Ansible  Ansible is a simple and powerful automation en...   \n",
       "7                      API  An API (Application Programming Interface) is ...   \n",
       "8                  Arduino  Arduino is an open source hardware and softwar...   \n",
       "9                  ASP.NET  ASP.NET is a web framework for building modern...   \n",
       "10                    Atom  Atom is a open source text editor built with w...   \n",
       "11           Awesome Lists  An awesome list is a list of awesome things cu...   \n",
       "12     Amazon Web Services  Amazon Web Services provides on-demand cloud c...   \n",
       "13                   Azure  Azure is a cloud computing service created by ...   \n",
       "14                   Babel  Babel is a compiler for writing next generatio...   \n",
       "15                    Bash  Bash is a shell and command language interpret...   \n",
       "16                 Bitcoin  Bitcoin is a cryptocurrency developed by Satos...   \n",
       "17               Bootstrap  Bootstrap is an HTML, CSS, and JavaScript fram...   \n",
       "18                     Bot  A bot is an application that runs automated ta...   \n",
       "19                       C  C is a general purpose programming language th...   \n",
       "20                  Chrome  Chrome is a web browser from the tech company ...   \n",
       "21        Chrome extension  Google Chrome Extensions are add-ons that allo...   \n",
       "22  Command line interface  A CLI, or command-line interface, is a console...   \n",
       "23                 Clojure  Clojure is a dynamic, general-purpose programm...   \n",
       "24            Code quality  Automate your code review with style, quality,...   \n",
       "25             Code review  Ensure your code meets quality standards and s...   \n",
       "26                Compiler  Compilers are software that translate higher-l...   \n",
       "27  Continuous integration  Automatically build and test your code as you ...   \n",
       "28                COVID-19  The coronavirus disease 2019 (COVID-19) is an ...   \n",
       "29                     C++  C++ is a general purpose and object-oriented p...   \n",
       "\n",
       "                                                 url  \n",
       "0                       https://github.com/topics/3d  \n",
       "1                     https://github.com/topics/ajax  \n",
       "2                https://github.com/topics/algorithm  \n",
       "3                    https://github.com/topics/amphp  \n",
       "4                  https://github.com/topics/android  \n",
       "5                  https://github.com/topics/angular  \n",
       "6                  https://github.com/topics/ansible  \n",
       "7                      https://github.com/topics/api  \n",
       "8                  https://github.com/topics/arduino  \n",
       "9                   https://github.com/topics/aspnet  \n",
       "10                    https://github.com/topics/atom  \n",
       "11                 https://github.com/topics/awesome  \n",
       "12                     https://github.com/topics/aws  \n",
       "13                   https://github.com/topics/azure  \n",
       "14                   https://github.com/topics/babel  \n",
       "15                    https://github.com/topics/bash  \n",
       "16                 https://github.com/topics/bitcoin  \n",
       "17               https://github.com/topics/bootstrap  \n",
       "18                     https://github.com/topics/bot  \n",
       "19                       https://github.com/topics/c  \n",
       "20                  https://github.com/topics/chrome  \n",
       "21        https://github.com/topics/chrome-extension  \n",
       "22                     https://github.com/topics/cli  \n",
       "23                 https://github.com/topics/clojure  \n",
       "24            https://github.com/topics/code-quality  \n",
       "25             https://github.com/topics/code-review  \n",
       "26                https://github.com/topics/compiler  \n",
       "27  https://github.com/topics/continuous-integration  \n",
       "28                https://github.com/topics/covid-19  \n",
       "29                     https://github.com/topics/cpp  "
      ],
      "text/html": "<div>\n<style scoped>\n    .dataframe tbody tr th:only-of-type {\n        vertical-align: middle;\n    }\n\n    .dataframe tbody tr th {\n        vertical-align: top;\n    }\n\n    .dataframe thead th {\n        text-align: right;\n    }\n</style>\n<table border=\"1\" class=\"dataframe\">\n  <thead>\n    <tr style=\"text-align: right;\">\n      <th></th>\n      <th>title</th>\n      <th>description</th>\n      <th>url</th>\n    </tr>\n  </thead>\n  <tbody>\n    <tr>\n      <th>0</th>\n      <td>3D</td>\n      <td>3D modeling is the process of virtually develo...</td>\n      <td>https://github.com/topics/3d</td>\n    </tr>\n    <tr>\n      <th>1</th>\n      <td>Ajax</td>\n      <td>Ajax is a technique for creating interactive w...</td>\n      <td>https://github.com/topics/ajax</td>\n    </tr>\n    <tr>\n      <th>2</th>\n      <td>Algorithm</td>\n      <td>Algorithms are self-contained sequences that c...</td>\n      <td>https://github.com/topics/algorithm</td>\n    </tr>\n    <tr>\n      <th>3</th>\n      <td>Amp</td>\n      <td>Amp is a non-blocking concurrency framework fo...</td>\n      <td>https://github.com/topics/amphp</td>\n    </tr>\n    <tr>\n      <th>4</th>\n      <td>Android</td>\n      <td>Android is an operating system built by Google...</td>\n      <td>https://github.com/topics/android</td>\n    </tr>\n    <tr>\n      <th>5</th>\n      <td>Angular</td>\n      <td>Angular is an open source web application plat...</td>\n      <td>https://github.com/topics/angular</td>\n    </tr>\n    <tr>\n      <th>6</th>\n      <td>Ansible</td>\n      <td>Ansible is a simple and powerful automation en...</td>\n      <td>https://github.com/topics/ansible</td>\n    </tr>\n    <tr>\n      <th>7</th>\n      <td>API</td>\n      <td>An API (Application Programming Interface) is ...</td>\n      <td>https://github.com/topics/api</td>\n    </tr>\n    <tr>\n      <th>8</th>\n      <td>Arduino</td>\n      <td>Arduino is an open source hardware and softwar...</td>\n      <td>https://github.com/topics/arduino</td>\n    </tr>\n    <tr>\n      <th>9</th>\n      <td>ASP.NET</td>\n      <td>ASP.NET is a web framework for building modern...</td>\n      <td>https://github.com/topics/aspnet</td>\n    </tr>\n    <tr>\n      <th>10</th>\n      <td>Atom</td>\n      <td>Atom is a open source text editor built with w...</td>\n      <td>https://github.com/topics/atom</td>\n    </tr>\n    <tr>\n      <th>11</th>\n      <td>Awesome Lists</td>\n      <td>An awesome list is a list of awesome things cu...</td>\n      <td>https://github.com/topics/awesome</td>\n    </tr>\n    <tr>\n      <th>12</th>\n      <td>Amazon Web Services</td>\n      <td>Amazon Web Services provides on-demand cloud c...</td>\n      <td>https://github.com/topics/aws</td>\n    </tr>\n    <tr>\n      <th>13</th>\n      <td>Azure</td>\n      <td>Azure is a cloud computing service created by ...</td>\n      <td>https://github.com/topics/azure</td>\n    </tr>\n    <tr>\n      <th>14</th>\n      <td>Babel</td>\n      <td>Babel is a compiler for writing next generatio...</td>\n      <td>https://github.com/topics/babel</td>\n    </tr>\n    <tr>\n      <th>15</th>\n      <td>Bash</td>\n      <td>Bash is a shell and command language interpret...</td>\n      <td>https://github.com/topics/bash</td>\n    </tr>\n    <tr>\n      <th>16</th>\n      <td>Bitcoin</td>\n      <td>Bitcoin is a cryptocurrency developed by Satos...</td>\n      <td>https://github.com/topics/bitcoin</td>\n    </tr>\n    <tr>\n      <th>17</th>\n      <td>Bootstrap</td>\n      <td>Bootstrap is an HTML, CSS, and JavaScript fram...</td>\n      <td>https://github.com/topics/bootstrap</td>\n    </tr>\n    <tr>\n      <th>18</th>\n      <td>Bot</td>\n      <td>A bot is an application that runs automated ta...</td>\n      <td>https://github.com/topics/bot</td>\n    </tr>\n    <tr>\n      <th>19</th>\n      <td>C</td>\n      <td>C is a general purpose programming language th...</td>\n      <td>https://github.com/topics/c</td>\n    </tr>\n    <tr>\n      <th>20</th>\n      <td>Chrome</td>\n      <td>Chrome is a web browser from the tech company ...</td>\n      <td>https://github.com/topics/chrome</td>\n    </tr>\n    <tr>\n      <th>21</th>\n      <td>Chrome extension</td>\n      <td>Google Chrome Extensions are add-ons that allo...</td>\n      <td>https://github.com/topics/chrome-extension</td>\n    </tr>\n    <tr>\n      <th>22</th>\n      <td>Command line interface</td>\n      <td>A CLI, or command-line interface, is a console...</td>\n      <td>https://github.com/topics/cli</td>\n    </tr>\n    <tr>\n      <th>23</th>\n      <td>Clojure</td>\n      <td>Clojure is a dynamic, general-purpose programm...</td>\n      <td>https://github.com/topics/clojure</td>\n    </tr>\n    <tr>\n      <th>24</th>\n      <td>Code quality</td>\n      <td>Automate your code review with style, quality,...</td>\n      <td>https://github.com/topics/code-quality</td>\n    </tr>\n    <tr>\n      <th>25</th>\n      <td>Code review</td>\n      <td>Ensure your code meets quality standards and s...</td>\n      <td>https://github.com/topics/code-review</td>\n    </tr>\n    <tr>\n      <th>26</th>\n      <td>Compiler</td>\n      <td>Compilers are software that translate higher-l...</td>\n      <td>https://github.com/topics/compiler</td>\n    </tr>\n    <tr>\n      <th>27</th>\n      <td>Continuous integration</td>\n      <td>Automatically build and test your code as you ...</td>\n      <td>https://github.com/topics/continuous-integration</td>\n    </tr>\n    <tr>\n      <th>28</th>\n      <td>COVID-19</td>\n      <td>The coronavirus disease 2019 (COVID-19) is an ...</td>\n      <td>https://github.com/topics/covid-19</td>\n    </tr>\n    <tr>\n      <th>29</th>\n      <td>C++</td>\n      <td>C++ is a general purpose and object-oriented p...</td>\n      <td>https://github.com/topics/cpp</td>\n    </tr>\n  </tbody>\n</table>\n</div>"
     },
     "metadata": {},
     "execution_count": 43
    }
   ],
   "source": [
    "topics_df"
   ]
  },
  {
   "cell_type": "code",
   "execution_count": 44,
   "metadata": {},
   "outputs": [],
   "source": [
    "topics_df.to_csv('topic.csv')"
   ]
  },
  {
   "source": [
    "## Getting info from url"
   ],
   "cell_type": "markdown",
   "metadata": {}
  },
  {
   "cell_type": "code",
   "execution_count": 45,
   "metadata": {},
   "outputs": [],
   "source": [
    "topic_page_url = topic_urls[0]"
   ]
  },
  {
   "cell_type": "code",
   "execution_count": 46,
   "metadata": {},
   "outputs": [
    {
     "output_type": "execute_result",
     "data": {
      "text/plain": [
       "'https://github.com/topics/3d'"
      ]
     },
     "metadata": {},
     "execution_count": 46
    }
   ],
   "source": [
    "topic_page_url"
   ]
  },
  {
   "cell_type": "code",
   "execution_count": 47,
   "metadata": {},
   "outputs": [],
   "source": [
    "response = requests.get(topic_page_url)"
   ]
  },
  {
   "cell_type": "code",
   "execution_count": 48,
   "metadata": {},
   "outputs": [
    {
     "output_type": "execute_result",
     "data": {
      "text/plain": [
       "200"
      ]
     },
     "metadata": {},
     "execution_count": 48
    }
   ],
   "source": [
    "response.status_code"
   ]
  },
  {
   "cell_type": "code",
   "execution_count": 49,
   "metadata": {},
   "outputs": [
    {
     "output_type": "execute_result",
     "data": {
      "text/plain": [
       "580755"
      ]
     },
     "metadata": {},
     "execution_count": 49
    }
   ],
   "source": [
    "len(response.text)"
   ]
  },
  {
   "cell_type": "code",
   "execution_count": 50,
   "metadata": {},
   "outputs": [],
   "source": [
    "topic_doc = BeautifulSoup(response.text, 'html.parser')"
   ]
  },
  {
   "cell_type": "code",
   "execution_count": 67,
   "metadata": {},
   "outputs": [],
   "source": [
    "h1_selection_class = 'f3 color-text-secondary text-normal lh-condensed'\n",
    "repo_tags = topic_doc.find_all('h1', {'class':h1_selection_class})"
   ]
  },
  {
   "cell_type": "code",
   "execution_count": 52,
   "metadata": {},
   "outputs": [
    {
     "output_type": "execute_result",
     "data": {
      "text/plain": [
       "30"
      ]
     },
     "metadata": {},
     "execution_count": 52
    }
   ],
   "source": [
    "len(repo_tags)"
   ]
  },
  {
   "cell_type": "code",
   "execution_count": 53,
   "metadata": {},
   "outputs": [],
   "source": [
    "a_tags = repo_tags[0].find_all('a')"
   ]
  },
  {
   "cell_type": "code",
   "execution_count": 56,
   "metadata": {},
   "outputs": [
    {
     "output_type": "execute_result",
     "data": {
      "text/plain": [
       "[<a data-ga-click=\"Explore, go to repository owner, location:explore feed\" data-hydro-click='{\"event_type\":\"explore.click\",\"payload\":{\"click_context\":\"REPOSITORY_CARD\",\"click_target\":\"OWNER\",\"click_visual_representation\":\"REPOSITORY_OWNER_HEADING\",\"actor_id\":null,\"record_id\":97088,\"originating_url\":\"https://github.com/topics/3d\",\"user_id\":null}}' data-hydro-click-hmac=\"4bdbc49d3c05ae7f70b531fbce709a384200b0768554e0172950286a8db30940\" href=\"/mrdoob\">\n",
       "             mrdoob\n",
       " </a>,\n",
       " <a class=\"text-bold\" data-ga-click=\"Explore, go to repository, location:explore feed\" data-hydro-click='{\"event_type\":\"explore.click\",\"payload\":{\"click_context\":\"REPOSITORY_CARD\",\"click_target\":\"REPOSITORY\",\"click_visual_representation\":\"REPOSITORY_NAME_HEADING\",\"actor_id\":null,\"record_id\":576201,\"originating_url\":\"https://github.com/topics/3d\",\"user_id\":null}}' data-hydro-click-hmac=\"517d3d5cb9d89752156923904a4238816bc9b51ab7772f3e3644ce897d8dd4e5\" href=\"/mrdoob/three.js\">\n",
       "             three.js\n",
       " </a>]"
      ]
     },
     "metadata": {},
     "execution_count": 56
    }
   ],
   "source": [
    "a_tags[:5]"
   ]
  },
  {
   "cell_type": "code",
   "execution_count": 54,
   "metadata": {},
   "outputs": [
    {
     "output_type": "execute_result",
     "data": {
      "text/plain": [
       "'mrdoob'"
      ]
     },
     "metadata": {},
     "execution_count": 54
    }
   ],
   "source": [
    "a_tags[0].text.strip()"
   ]
  },
  {
   "cell_type": "code",
   "execution_count": 55,
   "metadata": {},
   "outputs": [
    {
     "output_type": "execute_result",
     "data": {
      "text/plain": [
       "'three.js'"
      ]
     },
     "metadata": {},
     "execution_count": 55
    }
   ],
   "source": [
    "a_tags[1].text.strip()"
   ]
  },
  {
   "cell_type": "code",
   "execution_count": 58,
   "metadata": {},
   "outputs": [
    {
     "output_type": "stream",
     "name": "stdout",
     "text": [
      "https://github.com/mrdoob/three.js\n"
     ]
    }
   ],
   "source": [
    "base_url = 'https://github.com'\n",
    "repo_url = base_url + a_tags[1]['href']\n",
    "print(repo_url)"
   ]
  },
  {
   "cell_type": "code",
   "execution_count": 59,
   "metadata": {},
   "outputs": [],
   "source": [
    "star_tags = topic_doc.find_all('a', {'class':'social-count float-none'})"
   ]
  },
  {
   "cell_type": "code",
   "execution_count": 60,
   "metadata": {},
   "outputs": [
    {
     "output_type": "execute_result",
     "data": {
      "text/plain": [
       "30"
      ]
     },
     "metadata": {},
     "execution_count": 60
    }
   ],
   "source": [
    "len(star_tags)"
   ]
  },
  {
   "cell_type": "code",
   "execution_count": 61,
   "metadata": {},
   "outputs": [
    {
     "output_type": "execute_result",
     "data": {
      "text/plain": [
       "'69.8k'"
      ]
     },
     "metadata": {},
     "execution_count": 61
    }
   ],
   "source": [
    "star_tags[0].text.strip()"
   ]
  },
  {
   "cell_type": "code",
   "execution_count": 84,
   "metadata": {},
   "outputs": [],
   "source": []
  },
  {
   "source": [
    "## Final Code"
   ],
   "cell_type": "markdown",
   "metadata": {}
  },
  {
   "cell_type": "code",
   "execution_count": 107,
   "metadata": {},
   "outputs": [],
   "source": [
    "def get_topic_page(topic_url):\n",
    "     #Download the page\n",
    "    response = requests.get(topic_url)\n",
    "\n",
    "    #Check successful response\n",
    "    if response.status_code != 200:\n",
    "        raise Exception(f\"failed to load page {topic_url}\")\n",
    "\n",
    "    #parse using beautiful soup\n",
    "    topic_doc = BeautifulSoup(response.text, 'html.parser')\n",
    "    return topic_doc\n",
    "\n",
    "\n",
    "\n",
    "def parse_star_count(stars_str):\n",
    "    stars_str = stars_str.strip()\n",
    "    if stars_str[-1] == 'k':\n",
    "        return int(float(stars_str[:-1]) * 1000)\n",
    "    return int(stars_str)\n",
    "\n",
    "\n",
    "\n",
    "def get_repo_info(h1_tag, star_tags):\n",
    "    a_tags = h1_tag.find_all('a')\n",
    "    username = a_tags[0].text.strip()\n",
    "    repo_name =a_tags[1].text.strip()\n",
    "    repo_url = base_url + a_tags[1]['href']\n",
    "    stars = parse_star_count(star_tags.text.strip())\n",
    "    return username, repo_name, stars, repo_url\n",
    "\n",
    "\n",
    "\n",
    "def get_topic_repos(topic_doc):\n",
    "    #Get the h1 tags containing title repo URL and username\n",
    "    h1_selection_class = 'f3 color-text-secondary text-normal lh-condensed'\n",
    "\n",
    "    #get repo tags\n",
    "    repo_tags = topic_doc.find_all('h1', {'class':h1_selection_class})\n",
    "\n",
    "    #get star tags\n",
    "    star_tags = topic_doc.find_all('a', {'class':'social-count float-none'})\n",
    "\n",
    "    #dict for dataframe\n",
    "    topic_repo_dict = {\n",
    "    'username':[],\n",
    "    'repo_name':[],\n",
    "    'stars':[],\n",
    "    'repo_url':[]\n",
    "}\n",
    "\n",
    "    for i in range(len(repo_tags)):\n",
    "        repo_info = get_repo_info(repo_tags[i], star_tags[i])\n",
    "        topic_repo_dict['username'].append(repo_info[0])\n",
    "        topic_repo_dict['repo_name'].append(repo_info[1])\n",
    "        topic_repo_dict['stars'].append(repo_info[2])\n",
    "        topic_repo_dict['repo_url'].append(repo_info[3])\n",
    "\n",
    "    #form dataframe\n",
    "    topic_repos_df = pd.DataFrame(topic_repo_dict)\n",
    "    return topic_repos_df          \n"
   ]
  },
  {
   "cell_type": "code",
   "execution_count": 130,
   "metadata": {},
   "outputs": [],
   "source": [
    "import os\n",
    "\n",
    "\n",
    "def get_topic_titles(doc):\n",
    "    selection_class = 'f3 lh-condensed mb-0 mt-1 Link--primary'\n",
    "    topic_title_tags = doc.find_all('p', {'class': selection_class})\n",
    "    topic_titles = []\n",
    "    for tag in topic_title_tags:\n",
    "        topic_titles.append(tag.text)\n",
    "    return topic_titles\n",
    "\n",
    "\n",
    "def get_topic_description(doc):\n",
    "    desc_selector = 'f5 color-text-secondary mb-0 mt-1'\n",
    "    topic_desce_tags = doc.find_all('p', {'class':desc_selector})\n",
    "    topic_description = []\n",
    "    for tag in topic_desce_tags:\n",
    "        topic_description.append(tag.text.strip())\n",
    "    return topic_description\n",
    "\n",
    "\n",
    "def get_topic_url(doc):\n",
    "    topic_link_tags = doc.find_all('a', {'class', 'd-flex no-underline'})\n",
    "    topic_urls = []\n",
    "    base_url = \"https://github.com\"\n",
    "    for tag in topic_link_tags:\n",
    "        topic_urls.append(base_url + tag['href'])\n",
    "    return topic_urls\n",
    "\n",
    "\n",
    "\n",
    "\n",
    "def scrape_topics():\n",
    "    topics_url = 'https://github.com/topics'\n",
    "    response = requests.get(topics_url)\n",
    "    if response.status_code != 200:\n",
    "        raise Exception(f'failed to load page {topics_url}')\n",
    "    topics_dict = {'title':get_topic_titles(doc),\n",
    " 'description':get_topic_description(doc),\n",
    "  'url':get_topic_url(doc)}\n",
    "    return pd.DataFrame(topics_dict)\n",
    "\n",
    "\n",
    "def scrape_topic(topic_url, path):\n",
    "    #fname = topic_name + '.csv'\n",
    "    if os.path.exists(path):\n",
    "        print(f\"The file {path} already exists.\\n skipping...\")\n",
    "        return\n",
    "    topic_df = get_topic_repos(get_topic_page(topic_url))\n",
    "    topic_df.to_csv(path, index=None)\n",
    "    "
   ]
  },
  {
   "cell_type": "code",
   "execution_count": 131,
   "metadata": {},
   "outputs": [],
   "source": [
    "def scrape_topics_repos():\n",
    "    print('Scraping list of topics')\n",
    "    topics_df = scrape_topics()\n",
    "\n",
    "    os.makedirs('data', exist_ok=True)\n",
    "\n",
    "    for index, row in topics_df.iterrows():\n",
    "        print(f\"Scraping top repositories for {row['title']}\")\n",
    "        scrape_topic(row['url'], 'data/{}.csv'.format(row['title']))"
   ]
  },
  {
   "cell_type": "code",
   "execution_count": 132,
   "metadata": {},
   "outputs": [
    {
     "output_type": "stream",
     "name": "stdout",
     "text": [
      "Scraping list of topics\n",
      "Scraping top repositories for 3D\n",
      "Scraping top repositories for Ajax\n",
      "Scraping top repositories for Algorithm\n",
      "Scraping top repositories for Amp\n",
      "Scraping top repositories for Android\n",
      "Scraping top repositories for Angular\n",
      "Scraping top repositories for Ansible\n",
      "Scraping top repositories for API\n",
      "Scraping top repositories for Arduino\n",
      "Scraping top repositories for ASP.NET\n",
      "Scraping top repositories for Atom\n",
      "Scraping top repositories for Awesome Lists\n",
      "Scraping top repositories for Amazon Web Services\n",
      "Scraping top repositories for Azure\n",
      "Scraping top repositories for Babel\n",
      "Scraping top repositories for Bash\n",
      "Scraping top repositories for Bitcoin\n",
      "Scraping top repositories for Bootstrap\n",
      "Scraping top repositories for Bot\n",
      "Scraping top repositories for C\n",
      "Scraping top repositories for Chrome\n",
      "Scraping top repositories for Chrome extension\n",
      "Scraping top repositories for Command line interface\n",
      "Scraping top repositories for Clojure\n",
      "Scraping top repositories for Code quality\n",
      "Scraping top repositories for Code review\n",
      "Scraping top repositories for Compiler\n",
      "Scraping top repositories for Continuous integration\n",
      "Scraping top repositories for COVID-19\n",
      "Scraping top repositories for C++\n"
     ]
    }
   ],
   "source": [
    "scrape_topics_repos()"
   ]
  },
  {
   "cell_type": "code",
   "execution_count": 108,
   "metadata": {},
   "outputs": [
    {
     "output_type": "execute_result",
     "data": {
      "text/plain": [
       "'https://github.com/topics/android'"
      ]
     },
     "metadata": {},
     "execution_count": 108
    }
   ],
   "source": [
    "url4 = topic_urls[4]\n",
    "url4"
   ]
  },
  {
   "cell_type": "code",
   "execution_count": 110,
   "metadata": {},
   "outputs": [
    {
     "output_type": "execute_result",
     "data": {
      "text/plain": [
       "                 username                      repo_name   stars  \\\n",
       "0                 flutter                        flutter  118000   \n",
       "1               justjavac   free-programming-books-zh_CN   78700   \n",
       "2              Genymobile                         scrcpy   47500   \n",
       "3        Hack-with-Github                Awesome-Hacking   43700   \n",
       "4                  google          material-design-icons   42700   \n",
       "5                wasabeef             awesome-android-ui   40300   \n",
       "6                  square                         okhttp   39800   \n",
       "7                 android           architecture-samples   38600   \n",
       "8                  square                       retrofit   37900   \n",
       "9                  Solido                awesome-flutter   35100   \n",
       "10                PhilJay                 MPAndroidChart   33100   \n",
       "11               fastlane                       fastlane   31700   \n",
       "12            shadowsocks            shadowsocks-android   31300   \n",
       "13               bumptech                          glide   31000   \n",
       "14                 airbnb                 lottie-android   31000   \n",
       "15                 Trinea           android-open-project   30600   \n",
       "16                 Blankj                AndroidUtilCode   29200   \n",
       "17                   xitu                     gold-miner   28700   \n",
       "18               bilibili                      ijkplayer   28700   \n",
       "19                  zxing                          zxing   27600   \n",
       "20               codepath                 android_guides   27300   \n",
       "21                 square                     leakcanary   26000   \n",
       "22                 skylot                           jadx   25700   \n",
       "23                alibaba                       fastjson   23300   \n",
       "24               scwang90             SmartRefreshLayout   22400   \n",
       "25              laurent22                         joplin   22400   \n",
       "26                CymChad  BaseRecyclerViewAdapterHelper   21800   \n",
       "27  react-native-elements          react-native-elements   20500   \n",
       "28           NativeScript                   NativeScript   20000   \n",
       "29               futurice         android-best-practices   19600   \n",
       "\n",
       "                                             repo_url  \n",
       "0                  https://github.com/flutter/flutter  \n",
       "1   https://github.com/justjavac/free-programming-...  \n",
       "2                https://github.com/Genymobile/scrcpy  \n",
       "3   https://github.com/Hack-with-Github/Awesome-Ha...  \n",
       "4     https://github.com/google/material-design-icons  \n",
       "5      https://github.com/wasabeef/awesome-android-ui  \n",
       "6                    https://github.com/square/okhttp  \n",
       "7     https://github.com/android/architecture-samples  \n",
       "8                  https://github.com/square/retrofit  \n",
       "9           https://github.com/Solido/awesome-flutter  \n",
       "10          https://github.com/PhilJay/MPAndroidChart  \n",
       "11               https://github.com/fastlane/fastlane  \n",
       "12  https://github.com/shadowsocks/shadowsocks-and...  \n",
       "13                  https://github.com/bumptech/glide  \n",
       "14           https://github.com/airbnb/lottie-android  \n",
       "15     https://github.com/Trinea/android-open-project  \n",
       "16          https://github.com/Blankj/AndroidUtilCode  \n",
       "17                 https://github.com/xitu/gold-miner  \n",
       "18              https://github.com/bilibili/ijkplayer  \n",
       "19                     https://github.com/zxing/zxing  \n",
       "20         https://github.com/codepath/android_guides  \n",
       "21               https://github.com/square/leakcanary  \n",
       "22                     https://github.com/skylot/jadx  \n",
       "23                https://github.com/alibaba/fastjson  \n",
       "24     https://github.com/scwang90/SmartRefreshLayout  \n",
       "25                https://github.com/laurent22/joplin  \n",
       "26  https://github.com/CymChad/BaseRecyclerViewAda...  \n",
       "27  https://github.com/react-native-elements/react...  \n",
       "28       https://github.com/NativeScript/NativeScript  \n",
       "29  https://github.com/futurice/android-best-pract...  "
      ],
      "text/html": "<div>\n<style scoped>\n    .dataframe tbody tr th:only-of-type {\n        vertical-align: middle;\n    }\n\n    .dataframe tbody tr th {\n        vertical-align: top;\n    }\n\n    .dataframe thead th {\n        text-align: right;\n    }\n</style>\n<table border=\"1\" class=\"dataframe\">\n  <thead>\n    <tr style=\"text-align: right;\">\n      <th></th>\n      <th>username</th>\n      <th>repo_name</th>\n      <th>stars</th>\n      <th>repo_url</th>\n    </tr>\n  </thead>\n  <tbody>\n    <tr>\n      <th>0</th>\n      <td>flutter</td>\n      <td>flutter</td>\n      <td>118000</td>\n      <td>https://github.com/flutter/flutter</td>\n    </tr>\n    <tr>\n      <th>1</th>\n      <td>justjavac</td>\n      <td>free-programming-books-zh_CN</td>\n      <td>78700</td>\n      <td>https://github.com/justjavac/free-programming-...</td>\n    </tr>\n    <tr>\n      <th>2</th>\n      <td>Genymobile</td>\n      <td>scrcpy</td>\n      <td>47500</td>\n      <td>https://github.com/Genymobile/scrcpy</td>\n    </tr>\n    <tr>\n      <th>3</th>\n      <td>Hack-with-Github</td>\n      <td>Awesome-Hacking</td>\n      <td>43700</td>\n      <td>https://github.com/Hack-with-Github/Awesome-Ha...</td>\n    </tr>\n    <tr>\n      <th>4</th>\n      <td>google</td>\n      <td>material-design-icons</td>\n      <td>42700</td>\n      <td>https://github.com/google/material-design-icons</td>\n    </tr>\n    <tr>\n      <th>5</th>\n      <td>wasabeef</td>\n      <td>awesome-android-ui</td>\n      <td>40300</td>\n      <td>https://github.com/wasabeef/awesome-android-ui</td>\n    </tr>\n    <tr>\n      <th>6</th>\n      <td>square</td>\n      <td>okhttp</td>\n      <td>39800</td>\n      <td>https://github.com/square/okhttp</td>\n    </tr>\n    <tr>\n      <th>7</th>\n      <td>android</td>\n      <td>architecture-samples</td>\n      <td>38600</td>\n      <td>https://github.com/android/architecture-samples</td>\n    </tr>\n    <tr>\n      <th>8</th>\n      <td>square</td>\n      <td>retrofit</td>\n      <td>37900</td>\n      <td>https://github.com/square/retrofit</td>\n    </tr>\n    <tr>\n      <th>9</th>\n      <td>Solido</td>\n      <td>awesome-flutter</td>\n      <td>35100</td>\n      <td>https://github.com/Solido/awesome-flutter</td>\n    </tr>\n    <tr>\n      <th>10</th>\n      <td>PhilJay</td>\n      <td>MPAndroidChart</td>\n      <td>33100</td>\n      <td>https://github.com/PhilJay/MPAndroidChart</td>\n    </tr>\n    <tr>\n      <th>11</th>\n      <td>fastlane</td>\n      <td>fastlane</td>\n      <td>31700</td>\n      <td>https://github.com/fastlane/fastlane</td>\n    </tr>\n    <tr>\n      <th>12</th>\n      <td>shadowsocks</td>\n      <td>shadowsocks-android</td>\n      <td>31300</td>\n      <td>https://github.com/shadowsocks/shadowsocks-and...</td>\n    </tr>\n    <tr>\n      <th>13</th>\n      <td>bumptech</td>\n      <td>glide</td>\n      <td>31000</td>\n      <td>https://github.com/bumptech/glide</td>\n    </tr>\n    <tr>\n      <th>14</th>\n      <td>airbnb</td>\n      <td>lottie-android</td>\n      <td>31000</td>\n      <td>https://github.com/airbnb/lottie-android</td>\n    </tr>\n    <tr>\n      <th>15</th>\n      <td>Trinea</td>\n      <td>android-open-project</td>\n      <td>30600</td>\n      <td>https://github.com/Trinea/android-open-project</td>\n    </tr>\n    <tr>\n      <th>16</th>\n      <td>Blankj</td>\n      <td>AndroidUtilCode</td>\n      <td>29200</td>\n      <td>https://github.com/Blankj/AndroidUtilCode</td>\n    </tr>\n    <tr>\n      <th>17</th>\n      <td>xitu</td>\n      <td>gold-miner</td>\n      <td>28700</td>\n      <td>https://github.com/xitu/gold-miner</td>\n    </tr>\n    <tr>\n      <th>18</th>\n      <td>bilibili</td>\n      <td>ijkplayer</td>\n      <td>28700</td>\n      <td>https://github.com/bilibili/ijkplayer</td>\n    </tr>\n    <tr>\n      <th>19</th>\n      <td>zxing</td>\n      <td>zxing</td>\n      <td>27600</td>\n      <td>https://github.com/zxing/zxing</td>\n    </tr>\n    <tr>\n      <th>20</th>\n      <td>codepath</td>\n      <td>android_guides</td>\n      <td>27300</td>\n      <td>https://github.com/codepath/android_guides</td>\n    </tr>\n    <tr>\n      <th>21</th>\n      <td>square</td>\n      <td>leakcanary</td>\n      <td>26000</td>\n      <td>https://github.com/square/leakcanary</td>\n    </tr>\n    <tr>\n      <th>22</th>\n      <td>skylot</td>\n      <td>jadx</td>\n      <td>25700</td>\n      <td>https://github.com/skylot/jadx</td>\n    </tr>\n    <tr>\n      <th>23</th>\n      <td>alibaba</td>\n      <td>fastjson</td>\n      <td>23300</td>\n      <td>https://github.com/alibaba/fastjson</td>\n    </tr>\n    <tr>\n      <th>24</th>\n      <td>scwang90</td>\n      <td>SmartRefreshLayout</td>\n      <td>22400</td>\n      <td>https://github.com/scwang90/SmartRefreshLayout</td>\n    </tr>\n    <tr>\n      <th>25</th>\n      <td>laurent22</td>\n      <td>joplin</td>\n      <td>22400</td>\n      <td>https://github.com/laurent22/joplin</td>\n    </tr>\n    <tr>\n      <th>26</th>\n      <td>CymChad</td>\n      <td>BaseRecyclerViewAdapterHelper</td>\n      <td>21800</td>\n      <td>https://github.com/CymChad/BaseRecyclerViewAda...</td>\n    </tr>\n    <tr>\n      <th>27</th>\n      <td>react-native-elements</td>\n      <td>react-native-elements</td>\n      <td>20500</td>\n      <td>https://github.com/react-native-elements/react...</td>\n    </tr>\n    <tr>\n      <th>28</th>\n      <td>NativeScript</td>\n      <td>NativeScript</td>\n      <td>20000</td>\n      <td>https://github.com/NativeScript/NativeScript</td>\n    </tr>\n    <tr>\n      <th>29</th>\n      <td>futurice</td>\n      <td>android-best-practices</td>\n      <td>19600</td>\n      <td>https://github.com/futurice/android-best-pract...</td>\n    </tr>\n  </tbody>\n</table>\n</div>"
     },
     "metadata": {},
     "execution_count": 110
    }
   ],
   "source": [
    "get_topic_repos(get_topic_page(url4))"
   ]
  },
  {
   "cell_type": "code",
   "execution_count": 112,
   "metadata": {},
   "outputs": [
    {
     "output_type": "execute_result",
     "data": {
      "text/plain": [
       "        username                             repo_name  stars  \\\n",
       "0      justjavac          free-programming-books-zh_CN  78800   \n",
       "1        angular                               angular  72600   \n",
       "2    storybookjs                             storybook  60600   \n",
       "3     ionic-team                       ionic-framework  43400   \n",
       "4       prettier                              prettier  39400   \n",
       "5    leonardomso                        33-js-concepts  39000   \n",
       "6        SheetJS                               sheetjs  25200   \n",
       "7        angular                           angular-cli  24400   \n",
       "8        angular                            components  21400   \n",
       "9   NativeScript                          NativeScript  20000   \n",
       "10      jhipster                    generator-jhipster  18300   \n",
       "11        Eugeny                              terminus  17600   \n",
       "12  handsontable                          handsontable  15000   \n",
       "13   sweetalert2                           sweetalert2  12800   \n",
       "14     linnovate                                  mean  12100   \n",
       "15  goldbergyoni     javascript-testing-best-practices  11100   \n",
       "16        coreui  coreui-free-bootstrap-admin-template  10700   \n",
       "17   codesandbox                    codesandbox-client  10500   \n",
       "18     PatrickJS                       angular-starter  10400   \n",
       "19    Chocobozzz                              PeerTube   9300   \n",
       "20       angular                            protractor   8700   \n",
       "21       OnsenUI                               OnsenUI   8300   \n",
       "22     text-mask                             text-mask   8000   \n",
       "23     PatrickJS                       awesome-angular   7800   \n",
       "24  ng-bootstrap                          ng-bootstrap   7700   \n",
       "25      NG-ZORRO                         ng-zorro-antd   7400   \n",
       "26       ag-grid                               ag-grid   7100   \n",
       "27       rematch                               rematch   7100   \n",
       "28         akveo                               nebular   7000   \n",
       "29          nrwl                                    nx   6800   \n",
       "\n",
       "                                             repo_url  \n",
       "0   https://github.com/justjavac/free-programming-...  \n",
       "1                  https://github.com/angular/angular  \n",
       "2            https://github.com/storybookjs/storybook  \n",
       "3       https://github.com/ionic-team/ionic-framework  \n",
       "4                https://github.com/prettier/prettier  \n",
       "5       https://github.com/leonardomso/33-js-concepts  \n",
       "6                  https://github.com/SheetJS/sheetjs  \n",
       "7              https://github.com/angular/angular-cli  \n",
       "8               https://github.com/angular/components  \n",
       "9        https://github.com/NativeScript/NativeScript  \n",
       "10     https://github.com/jhipster/generator-jhipster  \n",
       "11                 https://github.com/Eugeny/terminus  \n",
       "12       https://github.com/handsontable/handsontable  \n",
       "13         https://github.com/sweetalert2/sweetalert2  \n",
       "14                  https://github.com/linnovate/mean  \n",
       "15  https://github.com/goldbergyoni/javascript-tes...  \n",
       "16  https://github.com/coreui/coreui-free-bootstra...  \n",
       "17  https://github.com/codesandbox/codesandbox-client  \n",
       "18       https://github.com/PatrickJS/angular-starter  \n",
       "19             https://github.com/Chocobozzz/PeerTube  \n",
       "20              https://github.com/angular/protractor  \n",
       "21                 https://github.com/OnsenUI/OnsenUI  \n",
       "22             https://github.com/text-mask/text-mask  \n",
       "23       https://github.com/PatrickJS/awesome-angular  \n",
       "24       https://github.com/ng-bootstrap/ng-bootstrap  \n",
       "25          https://github.com/NG-ZORRO/ng-zorro-antd  \n",
       "26                 https://github.com/ag-grid/ag-grid  \n",
       "27                 https://github.com/rematch/rematch  \n",
       "28                   https://github.com/akveo/nebular  \n",
       "29                         https://github.com/nrwl/nx  "
      ],
      "text/html": "<div>\n<style scoped>\n    .dataframe tbody tr th:only-of-type {\n        vertical-align: middle;\n    }\n\n    .dataframe tbody tr th {\n        vertical-align: top;\n    }\n\n    .dataframe thead th {\n        text-align: right;\n    }\n</style>\n<table border=\"1\" class=\"dataframe\">\n  <thead>\n    <tr style=\"text-align: right;\">\n      <th></th>\n      <th>username</th>\n      <th>repo_name</th>\n      <th>stars</th>\n      <th>repo_url</th>\n    </tr>\n  </thead>\n  <tbody>\n    <tr>\n      <th>0</th>\n      <td>justjavac</td>\n      <td>free-programming-books-zh_CN</td>\n      <td>78800</td>\n      <td>https://github.com/justjavac/free-programming-...</td>\n    </tr>\n    <tr>\n      <th>1</th>\n      <td>angular</td>\n      <td>angular</td>\n      <td>72600</td>\n      <td>https://github.com/angular/angular</td>\n    </tr>\n    <tr>\n      <th>2</th>\n      <td>storybookjs</td>\n      <td>storybook</td>\n      <td>60600</td>\n      <td>https://github.com/storybookjs/storybook</td>\n    </tr>\n    <tr>\n      <th>3</th>\n      <td>ionic-team</td>\n      <td>ionic-framework</td>\n      <td>43400</td>\n      <td>https://github.com/ionic-team/ionic-framework</td>\n    </tr>\n    <tr>\n      <th>4</th>\n      <td>prettier</td>\n      <td>prettier</td>\n      <td>39400</td>\n      <td>https://github.com/prettier/prettier</td>\n    </tr>\n    <tr>\n      <th>5</th>\n      <td>leonardomso</td>\n      <td>33-js-concepts</td>\n      <td>39000</td>\n      <td>https://github.com/leonardomso/33-js-concepts</td>\n    </tr>\n    <tr>\n      <th>6</th>\n      <td>SheetJS</td>\n      <td>sheetjs</td>\n      <td>25200</td>\n      <td>https://github.com/SheetJS/sheetjs</td>\n    </tr>\n    <tr>\n      <th>7</th>\n      <td>angular</td>\n      <td>angular-cli</td>\n      <td>24400</td>\n      <td>https://github.com/angular/angular-cli</td>\n    </tr>\n    <tr>\n      <th>8</th>\n      <td>angular</td>\n      <td>components</td>\n      <td>21400</td>\n      <td>https://github.com/angular/components</td>\n    </tr>\n    <tr>\n      <th>9</th>\n      <td>NativeScript</td>\n      <td>NativeScript</td>\n      <td>20000</td>\n      <td>https://github.com/NativeScript/NativeScript</td>\n    </tr>\n    <tr>\n      <th>10</th>\n      <td>jhipster</td>\n      <td>generator-jhipster</td>\n      <td>18300</td>\n      <td>https://github.com/jhipster/generator-jhipster</td>\n    </tr>\n    <tr>\n      <th>11</th>\n      <td>Eugeny</td>\n      <td>terminus</td>\n      <td>17600</td>\n      <td>https://github.com/Eugeny/terminus</td>\n    </tr>\n    <tr>\n      <th>12</th>\n      <td>handsontable</td>\n      <td>handsontable</td>\n      <td>15000</td>\n      <td>https://github.com/handsontable/handsontable</td>\n    </tr>\n    <tr>\n      <th>13</th>\n      <td>sweetalert2</td>\n      <td>sweetalert2</td>\n      <td>12800</td>\n      <td>https://github.com/sweetalert2/sweetalert2</td>\n    </tr>\n    <tr>\n      <th>14</th>\n      <td>linnovate</td>\n      <td>mean</td>\n      <td>12100</td>\n      <td>https://github.com/linnovate/mean</td>\n    </tr>\n    <tr>\n      <th>15</th>\n      <td>goldbergyoni</td>\n      <td>javascript-testing-best-practices</td>\n      <td>11100</td>\n      <td>https://github.com/goldbergyoni/javascript-tes...</td>\n    </tr>\n    <tr>\n      <th>16</th>\n      <td>coreui</td>\n      <td>coreui-free-bootstrap-admin-template</td>\n      <td>10700</td>\n      <td>https://github.com/coreui/coreui-free-bootstra...</td>\n    </tr>\n    <tr>\n      <th>17</th>\n      <td>codesandbox</td>\n      <td>codesandbox-client</td>\n      <td>10500</td>\n      <td>https://github.com/codesandbox/codesandbox-client</td>\n    </tr>\n    <tr>\n      <th>18</th>\n      <td>PatrickJS</td>\n      <td>angular-starter</td>\n      <td>10400</td>\n      <td>https://github.com/PatrickJS/angular-starter</td>\n    </tr>\n    <tr>\n      <th>19</th>\n      <td>Chocobozzz</td>\n      <td>PeerTube</td>\n      <td>9300</td>\n      <td>https://github.com/Chocobozzz/PeerTube</td>\n    </tr>\n    <tr>\n      <th>20</th>\n      <td>angular</td>\n      <td>protractor</td>\n      <td>8700</td>\n      <td>https://github.com/angular/protractor</td>\n    </tr>\n    <tr>\n      <th>21</th>\n      <td>OnsenUI</td>\n      <td>OnsenUI</td>\n      <td>8300</td>\n      <td>https://github.com/OnsenUI/OnsenUI</td>\n    </tr>\n    <tr>\n      <th>22</th>\n      <td>text-mask</td>\n      <td>text-mask</td>\n      <td>8000</td>\n      <td>https://github.com/text-mask/text-mask</td>\n    </tr>\n    <tr>\n      <th>23</th>\n      <td>PatrickJS</td>\n      <td>awesome-angular</td>\n      <td>7800</td>\n      <td>https://github.com/PatrickJS/awesome-angular</td>\n    </tr>\n    <tr>\n      <th>24</th>\n      <td>ng-bootstrap</td>\n      <td>ng-bootstrap</td>\n      <td>7700</td>\n      <td>https://github.com/ng-bootstrap/ng-bootstrap</td>\n    </tr>\n    <tr>\n      <th>25</th>\n      <td>NG-ZORRO</td>\n      <td>ng-zorro-antd</td>\n      <td>7400</td>\n      <td>https://github.com/NG-ZORRO/ng-zorro-antd</td>\n    </tr>\n    <tr>\n      <th>26</th>\n      <td>ag-grid</td>\n      <td>ag-grid</td>\n      <td>7100</td>\n      <td>https://github.com/ag-grid/ag-grid</td>\n    </tr>\n    <tr>\n      <th>27</th>\n      <td>rematch</td>\n      <td>rematch</td>\n      <td>7100</td>\n      <td>https://github.com/rematch/rematch</td>\n    </tr>\n    <tr>\n      <th>28</th>\n      <td>akveo</td>\n      <td>nebular</td>\n      <td>7000</td>\n      <td>https://github.com/akveo/nebular</td>\n    </tr>\n    <tr>\n      <th>29</th>\n      <td>nrwl</td>\n      <td>nx</td>\n      <td>6800</td>\n      <td>https://github.com/nrwl/nx</td>\n    </tr>\n  </tbody>\n</table>\n</div>"
     },
     "metadata": {},
     "execution_count": 112
    }
   ],
   "source": [
    "get_topic_repos(get_topic_page(topic_urls[5]))"
   ]
  },
  {
   "cell_type": "code",
   "execution_count": null,
   "metadata": {},
   "outputs": [],
   "source": []
  },
  {
   "cell_type": "code",
   "execution_count": null,
   "metadata": {},
   "outputs": [],
   "source": []
  },
  {
   "cell_type": "code",
   "execution_count": null,
   "metadata": {},
   "outputs": [],
   "source": []
  },
  {
   "cell_type": "code",
   "execution_count": null,
   "metadata": {},
   "outputs": [],
   "source": []
  },
  {
   "cell_type": "code",
   "execution_count": null,
   "metadata": {},
   "outputs": [],
   "source": []
  },
  {
   "cell_type": "code",
   "execution_count": null,
   "metadata": {},
   "outputs": [],
   "source": []
  },
  {
   "cell_type": "code",
   "execution_count": null,
   "metadata": {},
   "outputs": [],
   "source": []
  },
  {
   "cell_type": "code",
   "execution_count": 87,
   "metadata": {},
   "outputs": [],
   "source": [
    "topic_repo_dict = {\n",
    "    'username':[],\n",
    "    'repo_name':[],\n",
    "    'stars':[],\n",
    "    'repo_url':[]\n",
    "}\n",
    "\n",
    "for i in range(len(repo_tags)):\n",
    "    repo_info = get_repo_info(repo_tags[i], star_tags[i])\n",
    "    topic_repo_dict['username'].append(repo_info[0])\n",
    "    topic_repo_dict['repo_name'].append(repo_info[1])\n",
    "    topic_repo_dict['stars'].append(repo_info[2])\n",
    "    topic_repo_dict['repo_url'].append(repo_info[3])"
   ]
  },
  {
   "cell_type": "code",
   "execution_count": 88,
   "metadata": {},
   "outputs": [
    {
     "output_type": "execute_result",
     "data": {
      "text/plain": [
       "{'username': ['mrdoob',\n",
       "  'libgdx',\n",
       "  'BabylonJS',\n",
       "  'pmndrs',\n",
       "  'aframevr',\n",
       "  'ssloy',\n",
       "  'FreeCAD',\n",
       "  'metafizzy',\n",
       "  'lettier',\n",
       "  'CesiumGS',\n",
       "  'a1studmuffin',\n",
       "  'timzhang642',\n",
       "  'spritejs',\n",
       "  'tensorspace-team',\n",
       "  'jagenjo',\n",
       "  'intel-isl',\n",
       "  'AaronJackson',\n",
       "  'YadiraF',\n",
       "  'openscad',\n",
       "  'domlysz',\n",
       "  'ssloy',\n",
       "  'mosra',\n",
       "  'cleardusk',\n",
       "  'gfxfundamentals',\n",
       "  'jasonlong',\n",
       "  'google',\n",
       "  'blender',\n",
       "  'antvis',\n",
       "  'pissang',\n",
       "  'tinyobjloader'],\n",
       " 'repo_name': ['three.js',\n",
       "  'libgdx',\n",
       "  'Babylon.js',\n",
       "  'react-three-fiber',\n",
       "  'aframe',\n",
       "  'tinyrenderer',\n",
       "  'FreeCAD',\n",
       "  'zdog',\n",
       "  '3d-game-shaders-for-beginners',\n",
       "  'cesium',\n",
       "  'SpaceshipGenerator',\n",
       "  '3D-Machine-Learning',\n",
       "  'spritejs',\n",
       "  'tensorspace',\n",
       "  'webglstudio.js',\n",
       "  'Open3D',\n",
       "  'vrn',\n",
       "  'PRNet',\n",
       "  'openscad',\n",
       "  'BlenderGIS',\n",
       "  'tinyraytracer',\n",
       "  'magnum',\n",
       "  '3DDFA',\n",
       "  'webgl-fundamentals',\n",
       "  'isometric-contributions',\n",
       "  'model-viewer',\n",
       "  'blender',\n",
       "  'L7',\n",
       "  'claygl',\n",
       "  'tinyobjloader'],\n",
       " 'stars': [69800,\n",
       "  18300,\n",
       "  13800,\n",
       "  12900,\n",
       "  12600,\n",
       "  10500,\n",
       "  9200,\n",
       "  8400,\n",
       "  8400,\n",
       "  6900,\n",
       "  6700,\n",
       "  6500,\n",
       "  4400,\n",
       "  4400,\n",
       "  4300,\n",
       "  4300,\n",
       "  4300,\n",
       "  4300,\n",
       "  4000,\n",
       "  3700,\n",
       "  3700,\n",
       "  3500,\n",
       "  3000,\n",
       "  2900,\n",
       "  2900,\n",
       "  2800,\n",
       "  2400,\n",
       "  2300,\n",
       "  2200,\n",
       "  2100],\n",
       " 'repo_url': ['https://github.com/mrdoob/three.js',\n",
       "  'https://github.com/libgdx/libgdx',\n",
       "  'https://github.com/BabylonJS/Babylon.js',\n",
       "  'https://github.com/pmndrs/react-three-fiber',\n",
       "  'https://github.com/aframevr/aframe',\n",
       "  'https://github.com/ssloy/tinyrenderer',\n",
       "  'https://github.com/FreeCAD/FreeCAD',\n",
       "  'https://github.com/metafizzy/zdog',\n",
       "  'https://github.com/lettier/3d-game-shaders-for-beginners',\n",
       "  'https://github.com/CesiumGS/cesium',\n",
       "  'https://github.com/a1studmuffin/SpaceshipGenerator',\n",
       "  'https://github.com/timzhang642/3D-Machine-Learning',\n",
       "  'https://github.com/spritejs/spritejs',\n",
       "  'https://github.com/tensorspace-team/tensorspace',\n",
       "  'https://github.com/jagenjo/webglstudio.js',\n",
       "  'https://github.com/intel-isl/Open3D',\n",
       "  'https://github.com/AaronJackson/vrn',\n",
       "  'https://github.com/YadiraF/PRNet',\n",
       "  'https://github.com/openscad/openscad',\n",
       "  'https://github.com/domlysz/BlenderGIS',\n",
       "  'https://github.com/ssloy/tinyraytracer',\n",
       "  'https://github.com/mosra/magnum',\n",
       "  'https://github.com/cleardusk/3DDFA',\n",
       "  'https://github.com/gfxfundamentals/webgl-fundamentals',\n",
       "  'https://github.com/jasonlong/isometric-contributions',\n",
       "  'https://github.com/google/model-viewer',\n",
       "  'https://github.com/blender/blender',\n",
       "  'https://github.com/antvis/L7',\n",
       "  'https://github.com/pissang/claygl',\n",
       "  'https://github.com/tinyobjloader/tinyobjloader']}"
      ]
     },
     "metadata": {},
     "execution_count": 88
    }
   ],
   "source": [
    "topic_repo_dict"
   ]
  },
  {
   "cell_type": "code",
   "execution_count": 89,
   "metadata": {},
   "outputs": [],
   "source": [
    "topic_repos_df = pd.DataFrame(topic_repo_dict)"
   ]
  },
  {
   "cell_type": "code",
   "execution_count": null,
   "metadata": {},
   "outputs": [],
   "source": []
  }
 ]
}